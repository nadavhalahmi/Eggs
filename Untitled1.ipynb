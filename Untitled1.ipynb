{
 "cells": [
  {
   "cell_type": "code",
   "execution_count": 194,
   "metadata": {
    "scrolled": false
   },
   "outputs": [],
   "source": [
    "def isLst2InLst1 (lst1, lst2):\n",
    "    if len(lst2)>len(lst1):\n",
    "        return False\n",
    "    indexes = []\n",
    "    for i in range (len(lst1)):\n",
    "        n=0\n",
    "        while n < len(indexes):\n",
    "            if indexes[n]== -1:\n",
    "                del indexes[n]\n",
    "            else:\n",
    "                n = n+1\n",
    "        for j in range (len(indexes)):\n",
    "            if indexes[j]==len(lst2):\n",
    "                return True\n",
    "            if (lst1[i]==lst2[indexes[j]]):\n",
    "                indexes[j]+= 1\n",
    "            else:\n",
    "                indexes[j] = -1\n",
    "        if (lst1[i]==lst2[0]):\n",
    "            indexes.append(1)\n",
    "    for m in range(len(indexes)):\n",
    "        if indexes[m]==len(lst2):\n",
    "            return True\n",
    "    return False\n",
    "        "
   ]
  },
  {
   "cell_type": "code",
   "execution_count": 195,
   "metadata": {},
   "outputs": [
    {
     "data": {
      "text/plain": [
       "True"
      ]
     },
     "execution_count": 195,
     "metadata": {},
     "output_type": "execute_result"
    }
   ],
   "source": [
    "lst1 = 'aaab'\n",
    "lst2 = 'aab'\n",
    "\n",
    "isLst2InLst1 (lst1,lst2)"
   ]
  },
  {
   "cell_type": "code",
   "execution_count": null,
   "metadata": {},
   "outputs": [],
   "source": []
  }
 ],
 "metadata": {
  "kernelspec": {
   "display_name": "Python 3",
   "language": "python",
   "name": "python3"
  },
  "language_info": {
   "codemirror_mode": {
    "name": "ipython",
    "version": 3
   },
   "file_extension": ".py",
   "mimetype": "text/x-python",
   "name": "python",
   "nbconvert_exporter": "python",
   "pygments_lexer": "ipython3",
   "version": "3.8.2"
  }
 },
 "nbformat": 4,
 "nbformat_minor": 4
}
