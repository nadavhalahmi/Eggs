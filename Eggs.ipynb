{
 "cells": [
  {
   "cell_type": "code",
   "execution_count": 1,
   "metadata": {},
   "outputs": [],
   "source": [
    "import numpy as np\n",
    "%matplotlib widget\n",
    "import matplotlib.pyplot as plt\n",
    "from mpl_toolkits.mplot3d import Axes3D"
   ]
  },
  {
   "cell_type": "code",
   "execution_count": 2,
   "metadata": {},
   "outputs": [],
   "source": [
    "maxEggsNum = 20\n",
    "maxFloorsNum = 2**20-1"
   ]
  },
  {
   "cell_type": "code",
   "execution_count": 3,
   "metadata": {},
   "outputs": [],
   "source": [
    "def minThrow (eggsNum,floorsNum):\n",
    "    minThrows = [] \n",
    "    jumps = [] \n",
    "\n",
    "    for egg in range(eggsNum+1):\n",
    "        minThrows.append([])\n",
    "        jumps.append([])\n",
    "        for floor in range (floorsNum+1):\n",
    "            if (egg == 0) and (floor == 0):\n",
    "                minThrows[egg].append(0)\n",
    "            elif floor == 0:\n",
    "                minThrows[egg].append(0)\n",
    "            elif egg == 1:\n",
    "                minThrows[egg].append(floor)\n",
    "            elif egg ==0:\n",
    "                minThrows[egg].append(floorsNum+1)\n",
    "            else:\n",
    "                minimum = floorsNum+1 \n",
    "                minIndex=-1\n",
    "                for currentFloor in range(1, floor+1):\n",
    "                    sol = 1+max(minThrows[egg][floor-currentFloor], minThrows[egg-1][currentFloor-1])\n",
    "                    if sol <= minimum:\n",
    "                        minimum = sol\n",
    "                        minIndex = currentFloor\n",
    "                minThrows[egg].append(minimum)\n",
    "                jumps[egg].append(minIndex)\n",
    "    return minThrows\n"
   ]
  },
  {
   "cell_type": "code",
   "execution_count": 56,
   "metadata": {},
   "outputs": [],
   "source": [
    "def minThrow2 (eggsNum,floorsNum):\n",
    "    minThrows = [] \n",
    "    debug = []\n",
    "    for egg in range(eggsNum+1):\n",
    "        minThrows.append([])\n",
    "        if egg == 0:\n",
    "            continue\n",
    "        currChoose = 0 #will be initizlied when need to be removed\n",
    "        chooseIndex = 0\n",
    "        jumps = [1]\n",
    "        sumJumps = 1\n",
    "        for floor in range (floorsNum+1):\n",
    "            if sumJumps >= floor:\n",
    "                minThrows[egg].append(len(jumps))\n",
    "            else: #should update jumps\n",
    "                if len(jumps) >= egg:\n",
    "                    currChoose = 1 if chooseIndex == 0 else round(currChoose*(((egg-1)+chooseIndex)/chooseIndex))\n",
    "                    if egg == 2:\n",
    "                        debug.append(currChoose)\n",
    "                    chooseIndex += 1\n",
    "                    jumps.append(2*jumps[-1]-currChoose) \n",
    "                else:\n",
    "                    jumps.append(2*jumps[-1])\n",
    "                sumJumps += jumps[-1]\n",
    "                minThrows[egg].append(len(jumps))\n",
    "    return minThrows, debug\n"
   ]
  },
  {
   "cell_type": "code",
   "execution_count": 57,
   "metadata": {},
   "outputs": [],
   "source": [
    "#%timeit minThrows = minThrow(maxEggsNum, maxFloorsNum)"
   ]
  },
  {
   "cell_type": "code",
   "execution_count": 58,
   "metadata": {},
   "outputs": [],
   "source": [
    "minThrows2,_ = minThrow2(maxEggsNum, maxFloorsNum)"
   ]
  },
  {
   "cell_type": "code",
   "execution_count": 59,
   "metadata": {},
   "outputs": [
    {
     "name": "stdout",
     "output_type": "stream",
     "text": [
      "8\n"
     ]
    }
   ],
   "source": [
    "print (minThrows[4][100])"
   ]
  },
  {
   "cell_type": "code",
   "execution_count": 60,
   "metadata": {},
   "outputs": [],
   "source": [
    "def checkEquals(m1, m2):\n",
    "    for i in range(1,len(m1)):\n",
    "        for j in range(1,len(m1[i])):\n",
    "            if m1[i][j] != m2[i][j]:\n",
    "                return False\n",
    "    return True"
   ]
  },
  {
   "cell_type": "code",
   "execution_count": 61,
   "metadata": {},
   "outputs": [
    {
     "data": {
      "text/plain": [
       "True"
      ]
     },
     "execution_count": 61,
     "metadata": {},
     "output_type": "execute_result"
    }
   ],
   "source": [
    "checkEquals(minThrows, minThrows2)"
   ]
  },
  {
   "cell_type": "code",
   "execution_count": 62,
   "metadata": {},
   "outputs": [],
   "source": [
    "%matplotlib widget\n",
    "def throwsDependingOnEggsNum (to, floorsNum, m):\n",
    "    eggs = range(1,to)\n",
    "    minimumThrows = []\n",
    "    for egg in eggs:\n",
    "        minimumThrows.append(minThrows[egg][floorsNum])\n",
    "    plt.plot(eggs, minimumThrows, m)"
   ]
  },
  {
   "cell_type": "code",
   "execution_count": 69,
   "metadata": {},
   "outputs": [],
   "source": [
    "%matplotlib widget\n",
    "def EggsNumDependingOnThrows (to, floorsNum, m):\n",
    "    eggs = range(1,to)\n",
    "    minimumThrows = []\n",
    "    for egg in eggs:\n",
    "        minimumThrows.append(minThrows[egg][floorsNum])\n",
    "    plt.plot(minimumThrows, eggs, m)"
   ]
  },
  {
   "cell_type": "code",
   "execution_count": 70,
   "metadata": {},
   "outputs": [
    {
     "data": {
      "application/vnd.jupyter.widget-view+json": {
       "model_id": "3a1f03bdb0da4648899092d170bffedb",
       "version_major": 2,
       "version_minor": 0
      },
      "text/plain": [
       "Canvas(toolbar=Toolbar(toolitems=[('Home', 'Reset original view', 'home', 'home'), ('Back', 'Back to previous …"
      ]
     },
     "metadata": {},
     "output_type": "display_data"
    }
   ],
   "source": [
    "#EggsNumDependingOnThrows(11, 1024, 'b1')\n",
    "#EggsNumDependingOnThrows(20, 2**20-1, 'r2')\n",
    "#EggsNumDependingOnThrows(11, 1022, 'g3')\n",
    "EggsNumDependingOnThrows(11, 1021, 'y4')"
   ]
  },
  {
   "cell_type": "code",
   "execution_count": 86,
   "metadata": {},
   "outputs": [],
   "source": [
    "%matplotlib widget\n",
    "def throwsDependingOnFloorsNum (to, eggsNum):\n",
    "    floors = range(1,to)\n",
    "    minimumThrows = []\n",
    "    for floor in floors:\n",
    "        minimumThrows.append(minThrows[eggsNum][floor])\n",
    "    plt.plot(floors, minimumThrows)"
   ]
  },
  {
   "cell_type": "code",
   "execution_count": 87,
   "metadata": {},
   "outputs": [
    {
     "data": {
      "application/vnd.jupyter.widget-view+json": {
       "model_id": "562c1177e06840f0903ab63a2fbecbbc",
       "version_major": 2,
       "version_minor": 0
      },
      "text/plain": [
       "Canvas(toolbar=Toolbar(toolitems=[('Home', 'Reset original view', 'home', 'home'), ('Back', 'Back to previous …"
      ]
     },
     "metadata": {},
     "output_type": "display_data"
    }
   ],
   "source": [
    "throwsDependingOnFloorsNum (10,2)"
   ]
  },
  {
   "cell_type": "code",
   "execution_count": 82,
   "metadata": {},
   "outputs": [],
   "source": [
    "import matplotlib.pyplot as plt\n",
    "import numpy as np\n",
    "def threeDGraph (f, to):\n",
    "    fig = plt.figure()\n",
    "    ax = fig.add_subplot(111, projection='3d')\n",
    "\n",
    "\n",
    "    xs = []\n",
    "    for i in range(f,to+1):\n",
    "        for j in range(f,to+1):\n",
    "            xs.append(i)\n",
    "    ys = []\n",
    "    for i in range(f,to+1):\n",
    "        for j in range(f,to+1):\n",
    "            ys.append(j)\n",
    "    zs = []\n",
    "    for egg in range(f,to+1):\n",
    "        for floor in range(f,to+1):\n",
    "            zs.append(minThrows[egg][floor])\n",
    "    ax.scatter(xs, ys, zs)\n",
    "\n",
    "    ax.set_xlabel('EGGS')\n",
    "    ax.set_ylabel('FLOORS')\n",
    "    ax.set_zlabel('MINIMUM THROWS')\n",
    "\n",
    "    plt.show()"
   ]
  },
  {
   "cell_type": "code",
   "execution_count": 83,
   "metadata": {},
   "outputs": [
    {
     "data": {
      "application/vnd.jupyter.widget-view+json": {
       "model_id": "f237f9cc10e7489bb1a5f9a5a0a3c34b",
       "version_major": 2,
       "version_minor": 0
      },
      "text/plain": [
       "Canvas(toolbar=Toolbar(toolitems=[('Home', 'Reset original view', 'home', 'home'), ('Back', 'Back to previous …"
      ]
     },
     "metadata": {},
     "output_type": "display_data"
    }
   ],
   "source": [
    "threeDGraph (1,20)"
   ]
  },
  {
   "cell_type": "code",
   "execution_count": 44,
   "metadata": {},
   "outputs": [],
   "source": [
    "import math\n",
    "def idealEggsNum(floorsNum):\n",
    "    IDEAL_THROWS_NUM = (int)(math.log(2*floorsNum,2))\n",
    "    for i in range(1, floorsNum+1):\n",
    "        throwNum = minThrows[i][floorsNum]\n",
    "        if throwNum == IDEAL_THROWS_NUM:\n",
    "            return (i)"
   ]
  },
  {
   "cell_type": "code",
   "execution_count": 45,
   "metadata": {},
   "outputs": [
    {
     "name": "stdout",
     "output_type": "stream",
     "text": [
      "4\n"
     ]
    }
   ],
   "source": [
    "print (idealEggsNum(15))"
   ]
  },
  {
   "cell_type": "code",
   "execution_count": 88,
   "metadata": {},
   "outputs": [],
   "source": [
    "%matplotlib widget\n",
    "def idealEggsNumDependingOnFloorsNum (to):\n",
    "    floors = range(1,to+1)\n",
    "    idealEggsN =[]\n",
    "    for i in floors:\n",
    "        idealEggsN.append(idealEggsNum(i))\n",
    "    plt.plot(floors, idealEggsN, 'b.')\n",
    "    return idealEggsN"
   ]
  },
  {
   "cell_type": "code",
   "execution_count": 89,
   "metadata": {},
   "outputs": [
    {
     "data": {
      "application/vnd.jupyter.widget-view+json": {
       "model_id": "c564d0550a9c42579a92336e14d0004a",
       "version_major": 2,
       "version_minor": 0
      },
      "text/plain": [
       "Canvas(toolbar=Toolbar(toolitems=[('Home', 'Reset original view', 'home', 'home'), ('Back', 'Back to previous …"
      ]
     },
     "metadata": {},
     "output_type": "display_data"
    }
   ],
   "source": [
    "idealEggsN = idealEggsNumDependingOnFloorsNum(2**20-1)"
   ]
  },
  {
   "cell_type": "code",
   "execution_count": 90,
   "metadata": {},
   "outputs": [],
   "source": [
    "eggsSeries = []\n",
    "for i in range(1,max(idealEggsN)+1):\n",
    "    eggsSeries.append([])\n",
    "    for j in range(len(idealEggsN)):\n",
    "        if i==idealEggsN[j]:\n",
    "            eggsSeries[-1].append(j)"
   ]
  },
  {
   "cell_type": "code",
   "execution_count": 91,
   "metadata": {},
   "outputs": [],
   "source": [
    "eggsSeriesLengths = []\n",
    "for j in range(len(eggsSeries)):\n",
    "    eggsSeriesLengths.append([])\n",
    "    counter = 1\n",
    "    for i in range(len(eggsSeries[j])-1):\n",
    "        if(eggsSeries[j][i+1]-eggsSeries[j][i] == 1):\n",
    "            counter+=1\n",
    "        else:\n",
    "            eggsSeriesLengths[-1].append(counter)\n",
    "            counter = 1\n",
    "    eggsSeriesLengths[-1].append(counter)"
   ]
  },
  {
   "cell_type": "code",
   "execution_count": 92,
   "metadata": {},
   "outputs": [
    {
     "data": {
      "text/plain": [
       "[[2],\n",
       " [4, 3],\n",
       " [1, 4, 10, 10],\n",
       " [1, 5, 15, 35, 35],\n",
       " [1, 6, 21, 56, 126, 126],\n",
       " [1, 7, 28, 84, 210, 462, 462],\n",
       " [1, 8, 36, 120, 330, 792, 1716, 1716],\n",
       " [1, 9, 45, 165, 495, 1287, 3003, 6435, 6435],\n",
       " [1, 10, 55, 220, 715, 2002, 5005, 11440, 24310, 24310],\n",
       " [1, 11, 66, 286, 1001, 3003, 8008, 19448, 43758, 92378, 92378],\n",
       " [1, 12, 78, 364, 1365, 4368, 12376, 31824, 75582, 167960],\n",
       " [1, 13, 91, 455, 1820, 6188, 18564, 50388, 125970],\n",
       " [1, 14, 105, 560, 2380, 8568, 27132, 77520],\n",
       " [1, 15, 120, 680, 3060, 11628, 38760],\n",
       " [1, 16, 136, 816, 3876, 15504],\n",
       " [1, 17, 153, 969, 4845],\n",
       " [1, 18, 171, 1140],\n",
       " [1, 19, 190],\n",
       " [1, 20],\n",
       " [1]]"
      ]
     },
     "execution_count": 92,
     "metadata": {},
     "output_type": "execute_result"
    }
   ],
   "source": [
    "eggsSeriesLengths"
   ]
  },
  {
   "cell_type": "code",
   "execution_count": 93,
   "metadata": {},
   "outputs": [],
   "source": [
    "import math\n",
    "%matplotlib widget\n",
    "def numOfEggsDependingOnNumOfThrows (numOfFloors, m):\n",
    "    eggs = []\n",
    "    IDEAL_THROWS_N = (int)(math.log(2*numOfFloors,2))\n",
    "    throws = range(numOfFloors,IDEAL_THROWS_N-1,-1)\n",
    "    for throwNum in throws:\n",
    "        for egg in range(1,throwNum+1):\n",
    "            t = minThrows[egg][numOfFloors]\n",
    "            if t <= throwNum:\n",
    "                eggs.append(egg)\n",
    "                break\n",
    "    plt.plot(throws, eggs, m)"
   ]
  },
  {
   "cell_type": "code",
   "execution_count": 94,
   "metadata": {},
   "outputs": [
    {
     "data": {
      "application/vnd.jupyter.widget-view+json": {
       "model_id": "b1acfd74154344d2b66e4674faa931c3",
       "version_major": 2,
       "version_minor": 0
      },
      "text/plain": [
       "Canvas(toolbar=Toolbar(toolitems=[('Home', 'Reset original view', 'home', 'home'), ('Back', 'Back to previous …"
      ]
     },
     "metadata": {},
     "output_type": "display_data"
    }
   ],
   "source": [
    "numOfEggsDependingOnNumOfThrows(2**20-1, 'b1')\n",
    "#numOfEggsDependingOnNumOfThrows(1023, 'r2')\n",
    "#numOfEggsDependingOnNumOfThrows(1022,'g3')\n",
    "#numOfEggsDependingOnNumOfThrows(1021, 'y4')"
   ]
  },
  {
   "cell_type": "code",
   "execution_count": 95,
   "metadata": {},
   "outputs": [],
   "source": [
    "l = []\n",
    "for i in range(10000):\n",
    "    l.append(minThrows[5][i])"
   ]
  },
  {
   "cell_type": "code",
   "execution_count": 96,
   "metadata": {},
   "outputs": [
    {
     "data": {
      "application/vnd.jupyter.widget-view+json": {
       "model_id": "67b126d975f148249e1184b700dadabf",
       "version_major": 2,
       "version_minor": 0
      },
      "text/plain": [
       "Canvas(toolbar=Toolbar(toolitems=[('Home', 'Reset original view', 'home', 'home'), ('Back', 'Back to previous …"
      ]
     },
     "metadata": {},
     "output_type": "display_data"
    },
    {
     "data": {
      "text/plain": [
       "[<matplotlib.lines.Line2D at 0x18074e80>]"
      ]
     },
     "execution_count": 96,
     "metadata": {},
     "output_type": "execute_result"
    }
   ],
   "source": [
    "%matplotlib widget\n",
    "plt.plot(list(range(10000)), l)"
   ]
  },
  {
   "cell_type": "code",
   "execution_count": null,
   "metadata": {},
   "outputs": [],
   "source": []
  },
  {
   "cell_type": "code",
   "execution_count": null,
   "metadata": {},
   "outputs": [],
   "source": []
  }
 ],
 "metadata": {
  "kernelspec": {
   "display_name": "Python 3",
   "language": "python",
   "name": "python3"
  },
  "language_info": {
   "codemirror_mode": {
    "name": "ipython",
    "version": 3
   },
   "file_extension": ".py",
   "mimetype": "text/x-python",
   "name": "python",
   "nbconvert_exporter": "python",
   "pygments_lexer": "ipython3",
   "version": "3.8.2"
  }
 },
 "nbformat": 4,
 "nbformat_minor": 4
}
