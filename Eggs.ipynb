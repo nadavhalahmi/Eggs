{
 "cells": [
  {
   "cell_type": "code",
   "execution_count": 2,
   "metadata": {},
   "outputs": [],
   "source": [
    "import numpy as np"
   ]
  },
  {
   "cell_type": "code",
   "execution_count": 34,
   "metadata": {},
   "outputs": [],
   "source": [
    "m = 512\n",
    "n = 512\n",
    "\n"
   ]
  },
  {
   "cell_type": "code",
   "execution_count": 35,
   "metadata": {},
   "outputs": [
    {
     "name": "stdout",
     "output_type": "stream",
     "text": [
      "262144\n"
     ]
    }
   ],
   "source": [
    "print(n*m)"
   ]
  },
  {
   "cell_type": "code",
   "execution_count": null,
   "metadata": {},
   "outputs": [],
   "source": [
    "int[][] minThrows = new int[eggsNum+1][floorsNum+1]; //wont use zeros\n",
    "int[][] jumps = new int[eggsNum+1][floorsNum+1];\n",
    "for(int i=0;i<minThrows.length;i++) //rows\n",
    "{\n",
    "\tfor(int j=0;j<minThrows[0].length;j++)//cols\n",
    "\t{\n",
    "\t\tif(i==1) minThrows[i][j]=j;\n",
    "\t\telse if(i==0 && j==0) minThrows[i][j]=0;\n",
    "\t\telse if(j==0) minThrows[i][j]=0;\n",
    "\t\telse if(i==0) minThrows[i][j]=floorsNum+1;\n",
    "\t\telse\n",
    "\t\t{\n",
    "\t\t\tint min = floorsNum+1; //infinity\n",
    "\t\t\tint minIndex=-1;\n",
    "\t\t\tfor(int f=1;f<=j;f++)\n",
    "\t\t\t{\n",
    "\t\t\t\tint sol = 1+Math.max(minThrows[i][j-f], minTrows[i-1][f-1]);\n",
    "\t\t\t\t//1+max(didnt break, broke)\n",
    "\t\t\t\tif(sol <= min)\n",
    "\t\t\t\t{\n",
    "\t\t\t\t\tmin = sol;\n",
    "\t\t\t\t\tminIndex = f;\n",
    "\t\t\t\t}\n",
    "\t\t\t}\n",
    "\t\t\tminThrows[i][j]=min;\n",
    "\t\t\tjumps[i][j] = minIndex;\n",
    "\t\t\t\n",
    "\t\t}\n",
    "\t}\n",
    "}\n",
    "System.out.println(\"solution is: \"+arr[n][m]);\n",
    "printArray(arr);"
   ]
  }
 ],
 "metadata": {
  "kernelspec": {
   "display_name": "Python 3",
   "language": "python",
   "name": "python3"
  },
  "language_info": {
   "codemirror_mode": {
    "name": "ipython",
    "version": 3
   },
   "file_extension": ".py",
   "mimetype": "text/x-python",
   "name": "python",
   "nbconvert_exporter": "python",
   "pygments_lexer": "ipython3",
   "version": "3.8.2"
  }
 },
 "nbformat": 4,
 "nbformat_minor": 2
}
