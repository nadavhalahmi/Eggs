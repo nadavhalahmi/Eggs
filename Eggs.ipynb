{
 "cells": [
  {
   "cell_type": "code",
   "execution_count": 2,
   "metadata": {},
   "outputs": [],
   "source": [
    "import numpy as np"
   ]
  },
  {
   "cell_type": "code",
   "execution_count": 34,
   "metadata": {},
   "outputs": [],
   "source": [
    "m = 512\n",
    "n = 512\n",
    "\n"
   ]
  },
  {
   "cell_type": "code",
   "execution_count": 35,
   "metadata": {},
   "outputs": [
    {
     "name": "stdout",
     "output_type": "stream",
     "text": [
      "262144\n"
     ]
    }
   ],
   "source": [
    "print(n*m)"
   ]
  },
  {
   "cell_type": "code",
   "execution_count": 125,
   "metadata": {},
   "outputs": [],
   "source": [
    "eggsNum = 2\n",
    "floorsNum = 15"
   ]
  },
  {
   "cell_type": "code",
   "execution_count": 126,
   "metadata": {},
   "outputs": [
    {
     "ename": "AttributeError",
     "evalue": "'int' object has no attribute 'append'",
     "output_type": "error",
     "traceback": [
      "\u001b[1;31m---------------------------------------------------------------------------\u001b[0m",
      "\u001b[1;31mAttributeError\u001b[0m                            Traceback (most recent call last)",
      "\u001b[1;32m<ipython-input-126-11e1c5f9731f>\u001b[0m in \u001b[0;36m<module>\u001b[1;34m\u001b[0m\n\u001b[0;32m     10\u001b[0m     \u001b[1;32mfor\u001b[0m \u001b[0mfloor\u001b[0m \u001b[1;32min\u001b[0m \u001b[0mrange\u001b[0m \u001b[1;33m(\u001b[0m\u001b[0mfloorsNum\u001b[0m\u001b[1;33m)\u001b[0m\u001b[1;33m:\u001b[0m\u001b[1;33m\u001b[0m\u001b[1;33m\u001b[0m\u001b[0m\n\u001b[0;32m     11\u001b[0m         \u001b[1;32mif\u001b[0m \u001b[1;33m(\u001b[0m\u001b[0megg\u001b[0m \u001b[1;33m==\u001b[0m \u001b[1;36m0\u001b[0m\u001b[1;33m)\u001b[0m \u001b[1;32mand\u001b[0m \u001b[1;33m(\u001b[0m\u001b[0mfloor\u001b[0m \u001b[1;33m==\u001b[0m \u001b[1;36m0\u001b[0m\u001b[1;33m)\u001b[0m\u001b[1;33m:\u001b[0m\u001b[1;33m\u001b[0m\u001b[1;33m\u001b[0m\u001b[0m\n\u001b[1;32m---> 12\u001b[1;33m             \u001b[0mminThrows\u001b[0m\u001b[1;33m[\u001b[0m\u001b[0megg\u001b[0m\u001b[1;33m]\u001b[0m\u001b[1;33m.\u001b[0m\u001b[0mappend\u001b[0m\u001b[1;33m(\u001b[0m\u001b[1;36m0\u001b[0m\u001b[1;33m)\u001b[0m\u001b[1;33m\u001b[0m\u001b[1;33m\u001b[0m\u001b[0m\n\u001b[0m\u001b[0;32m     13\u001b[0m         \u001b[1;32melif\u001b[0m \u001b[0mfloor\u001b[0m \u001b[1;33m==\u001b[0m \u001b[1;36m0\u001b[0m\u001b[1;33m:\u001b[0m\u001b[1;33m\u001b[0m\u001b[1;33m\u001b[0m\u001b[0m\n\u001b[0;32m     14\u001b[0m             \u001b[0mminThrows\u001b[0m\u001b[1;33m[\u001b[0m\u001b[0megg\u001b[0m\u001b[1;33m]\u001b[0m\u001b[1;33m.\u001b[0m\u001b[0mappend\u001b[0m\u001b[1;33m(\u001b[0m\u001b[1;36m0\u001b[0m\u001b[1;33m)\u001b[0m\u001b[1;33m\u001b[0m\u001b[1;33m\u001b[0m\u001b[0m\n",
      "\u001b[1;31mAttributeError\u001b[0m: 'int' object has no attribute 'append'"
     ]
    }
   ],
   "source": [
    "minThrow = [] \n",
    "jumps = [] \n",
    "\n",
    "for egg in range(eggsNum):\n",
    "    \n",
    "    if floor == floorsNum:\n",
    "        minThrows.append([])\n",
    "    elif egg == 0:\n",
    "        minThrows.append([])\n",
    "    for floor in range (floorsNum):\n",
    "        if (egg == 0) and (floor == 0):\n",
    "            minThrows[egg].append(0)\n",
    "        elif floor == 0:\n",
    "            minThrows[egg].append(0)\n",
    "        elif egg == 1:\n",
    "            minThrows[egg].append(floor)\n",
    "        elif egg ==0:\n",
    "            minThrows[egg].append(floorsNum+1)\n",
    "        else:\n",
    "            minimum = floorsNum+1 \n",
    "            minIndex=-1\n",
    "            for currentFloor in range(floor):\n",
    "                sol = 1+max(minThrows[egg][floor-currentFloor], minTrows[egg-1][currentFloor-1])\n",
    "                if sol <= minimum:\n",
    "                    minimum = sol\n",
    "                    minIndex = currentFloor\n",
    "            minThrows[egg].append(minimum)\n",
    "            jumps[egg].append(minIndex)\n"
   ]
  },
  {
   "cell_type": "code",
   "execution_count": null,
   "metadata": {},
   "outputs": [],
   "source": [
    "int[][] minThrows = new int[eggsNum+1][floorsNum+1]; //wont use zeros\n",
    "int[][] jumps = new int[eggsNum+1][floorsNum+1];\n",
    "for(int i=0;i<minThrows.length;i++) //rows\n",
    "{\n",
    "\tfor(int j=0;j<minThrows[0].length;j++)//cols\n",
    "\t{\n",
    "\t\tif(i==1) minThrows[i][j]=j;\n",
    "\t\telse if(i==0 && j==0) minThrows[i][j]=0;\n",
    "\t\telse if(j==0) minThrows[i][j]=0;\n",
    "\t\telse if(i==0) minThrows[i][j]=floorsNum+1;\n",
    "\t\telse\n",
    "\t\t{\n",
    "\t\t\tint min = floorsNum+1; //infinity\n",
    "\t\t\tint minIndex=-1;\n",
    "\t\t\tfor(int f=1;f<=j;f++)\n",
    "\t\t\t{\n",
    "\t\t\t\tint sol = 1+Math.max(minThrows[i][j-f], minTrows[i-1][f-1]);\n",
    "\t\t\t\t//1+max(didnt break, broke)\n",
    "\t\t\t\tif(sol <= min)\n",
    "\t\t\t\t{\n",
    "\t\t\t\t\tmin = sol;\n",
    "\t\t\t\t\tminIndex = f;\n",
    "\t\t\t\t}\n",
    "\t\t\t}\n",
    "\t\t\tminThrows[i][j]=min;\n",
    "\t\t\tjumps[i][j] = minIndex;\n",
    "\t\t\t\n",
    "\t\t}\n",
    "\t}\n",
    "}\n",
    "System.out.println(\"solution is: \"+minThrows[n][m]);\n",
    "printArray(minThrows);"
   ]
  }
 ],
 "metadata": {
  "kernelspec": {
   "display_name": "Python 3",
   "language": "python",
   "name": "python3"
  },
  "language_info": {
   "codemirror_mode": {
    "name": "ipython",
    "version": 3
   },
   "file_extension": ".py",
   "mimetype": "text/x-python",
   "name": "python",
   "nbconvert_exporter": "python",
   "pygments_lexer": "ipython3",
   "version": "3.8.2"
  }
 },
 "nbformat": 4,
 "nbformat_minor": 2
}
