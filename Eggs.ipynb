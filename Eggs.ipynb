{
 "cells": [
  {
   "cell_type": "code",
   "execution_count": 1,
   "metadata": {},
   "outputs": [],
   "source": [
    "import numpy as np\n",
    "%matplotlib widget\n",
    "import matplotlib.pyplot as plt\n",
    "from mpl_toolkits.mplot3d import Axes3D"
   ]
  },
  {
   "cell_type": "code",
   "execution_count": 2,
   "metadata": {},
   "outputs": [],
   "source": [
    "maxEggsNum = 20\n",
    "maxFloorsNum = 2**20-1"
   ]
  },
  {
   "cell_type": "code",
   "execution_count": 471,
   "metadata": {},
   "outputs": [],
   "source": [
    "def minThrow (eggsNum,floorsNum):\n",
    "    minThrows = [] \n",
    "    jumps = [] \n",
    "\n",
    "    for egg in range(eggsNum+1):\n",
    "        minThrows.append([])\n",
    "        jumps.append([])\n",
    "        for floor in range (floorsNum+1):\n",
    "            if (egg == 0) and (floor == 0):\n",
    "                minThrows[egg].append(0)\n",
    "            elif floor == 0:\n",
    "                minThrows[egg].append(0)\n",
    "            elif egg == 1:\n",
    "                minThrows[egg].append(floor)\n",
    "            elif egg ==0:\n",
    "                minThrows[egg].append(floorsNum+1)\n",
    "            else:\n",
    "                minimum = floorsNum+1 \n",
    "                minIndex=-1\n",
    "                for currentFloor in range(1, floor+1):\n",
    "                    sol = 1+max(minThrows[egg][floor-currentFloor], minThrows[egg-1][currentFloor-1])\n",
    "                    if sol <= minimum:\n",
    "                        minimum = sol\n",
    "                        minIndex = currentFloor\n",
    "                minThrows[egg].append(minimum)\n",
    "                jumps[egg].append(minIndex)\n",
    "    return minThrows\n"
   ]
  },
  {
   "cell_type": "code",
   "execution_count": 26,
   "metadata": {},
   "outputs": [],
   "source": [
    "def minThrow2 (eggsNum,floorsNum):\n",
    "    minThrows = [] \n",
    "    debug = []\n",
    "    for egg in range(eggsNum+1):\n",
    "        minThrows.append([])\n",
    "        if egg == 0:\n",
    "            continue\n",
    "        currChoose = 0 #will be initizlied when need to be removed\n",
    "        chooseIndex = 0\n",
    "        jumps = [1]\n",
    "        sumJumps = 1\n",
    "        for floor in range (floorsNum+1):\n",
    "            if sumJumps >= floor:\n",
    "                minThrows[egg].append(len(jumps))\n",
    "            else: #should update jumps\n",
    "                if len(jumps) >= egg:\n",
    "                    currChoose = 1 if chooseIndex == 0 else round(currChoose*(((egg-1)+chooseIndex)/chooseIndex))\n",
    "                    if egg == 2:\n",
    "                        debug.append(currChoose)\n",
    "                    chooseIndex += 1\n",
    "                    jumps.append(2*jumps[-1]-currChoose) \n",
    "                else:\n",
    "                    jumps.append(2*jumps[-1])\n",
    "                sumJumps += jumps[-1]\n",
    "                minThrows[egg].append(len(jumps))\n",
    "    return minThrows, debug\n"
   ]
  },
  {
   "cell_type": "code",
   "execution_count": 27,
   "metadata": {},
   "outputs": [],
   "source": [
    "#%timeit minThrows = minThrow(maxEggsNum, maxFloorsNum)"
   ]
  },
  {
   "cell_type": "code",
   "execution_count": 28,
   "metadata": {},
   "outputs": [],
   "source": [
    "minThrows,_ = minThrow2(maxEggsNum, maxFloorsNum)"
   ]
  },
  {
   "cell_type": "code",
   "execution_count": 29,
   "metadata": {},
   "outputs": [
    {
     "name": "stdout",
     "output_type": "stream",
     "text": [
      "89\n"
     ]
    }
   ],
   "source": [
    "print (minThrows[2][4000])"
   ]
  },
  {
   "cell_type": "code",
   "execution_count": 30,
   "metadata": {},
   "outputs": [],
   "source": [
    "def checkEquals(m1, m2):\n",
    "    for i in range(1,len(m1)):\n",
    "        for j in range(1,len(m1[i])):\n",
    "            if m1[i][j] != m2[i][j]:\n",
    "                return False\n",
    "    return True"
   ]
  },
  {
   "cell_type": "code",
   "execution_count": 31,
   "metadata": {},
   "outputs": [
    {
     "ename": "NameError",
     "evalue": "name 'minThrows2' is not defined",
     "output_type": "error",
     "traceback": [
      "\u001b[1;31m---------------------------------------------------------------------------\u001b[0m",
      "\u001b[1;31mNameError\u001b[0m                                 Traceback (most recent call last)",
      "\u001b[1;32m<ipython-input-31-b817d28585a3>\u001b[0m in \u001b[0;36m<module>\u001b[1;34m\u001b[0m\n\u001b[1;32m----> 1\u001b[1;33m \u001b[0mcheckEquals\u001b[0m\u001b[1;33m(\u001b[0m\u001b[0mminThrows\u001b[0m\u001b[1;33m,\u001b[0m \u001b[0mminThrows2\u001b[0m\u001b[1;33m)\u001b[0m\u001b[1;33m\u001b[0m\u001b[1;33m\u001b[0m\u001b[0m\n\u001b[0m",
      "\u001b[1;31mNameError\u001b[0m: name 'minThrows2' is not defined"
     ]
    }
   ],
   "source": [
    "checkEquals(minThrows, minThrows2)"
   ]
  },
  {
   "cell_type": "code",
   "execution_count": null,
   "metadata": {},
   "outputs": [],
   "source": [
    "%matplotlib widget\n",
    "def throwsDependingOnEggsNum (to, floorsNum, m):\n",
    "    eggs = range(1,to)\n",
    "    minimumThrows = []\n",
    "    for egg in eggs:\n",
    "        minimumThrows.append(minThrows[egg][floorsNum])\n",
    "    plt.plot(eggs, minimumThrows, m)"
   ]
  },
  {
   "cell_type": "code",
   "execution_count": null,
   "metadata": {},
   "outputs": [],
   "source": [
    "%matplotlib widget\n",
    "def EggsNumDependingOnThrows (to, floorsNum, m):\n",
    "    eggs = range(1,to)\n",
    "    minimumThrows = []\n",
    "    for egg in eggs:\n",
    "        minimumThrows.append(minThrows[egg][floorsNum])\n",
    "    plt.plot(minimumThrows, eggs, m)"
   ]
  },
  {
   "cell_type": "code",
   "execution_count": null,
   "metadata": {},
   "outputs": [],
   "source": [
    "#EggsNumDependingOnThrows(11, 1024, 'b1')\n",
    "EggsNumDependingOnThrows(20, 2**20-1, 'r2')\n",
    "#EggsNumDependingOnThrows(11, 1022, 'g3')\n",
    "#EggsNumDependingOnThrows(11, 1021, 'y4')"
   ]
  },
  {
   "cell_type": "code",
   "execution_count": null,
   "metadata": {},
   "outputs": [],
   "source": [
    "def throwsDependingOnFloorsNum (to, eggsNum):\n",
    "    floors = range(1,to)\n",
    "    minimumThrows = []\n",
    "    for floor in floors:\n",
    "        minimumThrows.append(minThrows[eggsNum][floor])\n",
    "    plt.plot(floors, minimumThrows)"
   ]
  },
  {
   "cell_type": "code",
   "execution_count": null,
   "metadata": {},
   "outputs": [],
   "source": [
    "import matplotlib.pyplot as plt\n",
    "import numpy as np\n",
    "def threeDGraph (f, to):\n",
    "    fig = plt.figure()\n",
    "    ax = fig.add_subplot(111, projection='3d')\n",
    "\n",
    "\n",
    "    xs = []\n",
    "    for i in range(f,to+1):\n",
    "        for j in range(f,to+1):\n",
    "            xs.append(i)\n",
    "    ys = []\n",
    "    for i in range(f,to+1):\n",
    "        for j in range(f,to+1):\n",
    "            ys.append(j)\n",
    "    zs = []\n",
    "    for egg in range(f,to+1):\n",
    "        for floor in range(f,to+1):\n",
    "            zs.append(minThrows[egg][floor])\n",
    "    ax.scatter(xs, ys, zs)\n",
    "\n",
    "    ax.set_xlabel('EGGS')\n",
    "    ax.set_ylabel('FLOORS')\n",
    "    ax.set_zlabel('MINIMUM THROWS')\n",
    "\n",
    "    plt.show()"
   ]
  },
  {
   "cell_type": "code",
   "execution_count": null,
   "metadata": {},
   "outputs": [],
   "source": [
    "threeDGraph (1,10)"
   ]
  },
  {
   "cell_type": "code",
   "execution_count": null,
   "metadata": {},
   "outputs": [],
   "source": [
    "import math\n",
    "def idealEggsNum(floorsNum):\n",
    "    IDEAL_THROWS_NUM = (int)(math.log(2*floorsNum,2))\n",
    "    for i in range(1, floorsNum+1):\n",
    "        throwNum = minThrows[i][floorsNum]\n",
    "        if throwNum == IDEAL_THROWS_NUM:\n",
    "            return (i)"
   ]
  },
  {
   "cell_type": "code",
   "execution_count": null,
   "metadata": {},
   "outputs": [],
   "source": [
    "print (idealEggsNum(15))"
   ]
  },
  {
   "cell_type": "code",
   "execution_count": null,
   "metadata": {},
   "outputs": [],
   "source": [
    "%matplotlib widget\n",
    "def idealEggsNumDependingOnFloorsNum (to):\n",
    "    floors = range(1,to+1)\n",
    "    idealEggsN =[]\n",
    "    for i in floors:\n",
    "        idealEggsN.append(idealEggsNum(i))\n",
    "    plt.plot(floors, idealEggsN, 'b.')\n",
    "    return idealEggsN"
   ]
  },
  {
   "cell_type": "code",
   "execution_count": null,
   "metadata": {},
   "outputs": [],
   "source": [
    "idealEggsN = idealEggsNumDependingOnFloorsNum(2**20-1)"
   ]
  },
  {
   "cell_type": "code",
   "execution_count": 32,
   "metadata": {},
   "outputs": [],
   "source": [
    "eggsSeries = []\n",
    "for i in range(1,max(idealEggsN)+1):\n",
    "    eggsSeries.append([])\n",
    "    for j in range(len(idealEggsN)):\n",
    "        if i==idealEggsN[j]:\n",
    "            eggsSeries[-1].append(j)"
   ]
  },
  {
   "cell_type": "code",
   "execution_count": 33,
   "metadata": {},
   "outputs": [],
   "source": [
    "eggsSeriesLengths = []\n",
    "for j in range(len(eggsSeries)):\n",
    "    eggsSeriesLengths.append([])\n",
    "    counter = 1\n",
    "    for i in range(len(eggsSeries[j])-1):\n",
    "        if(eggsSeries[j][i+1]-eggsSeries[j][i] == 1):\n",
    "            counter+=1\n",
    "        else:\n",
    "            eggsSeriesLengths[-1].append(counter)\n",
    "            counter = 1\n",
    "    eggsSeriesLengths[-1].append(counter)"
   ]
  },
  {
   "cell_type": "code",
   "execution_count": 34,
   "metadata": {},
   "outputs": [
    {
     "data": {
      "text/plain": [
       "[[2],\n",
       " [4, 3],\n",
       " [1, 4, 10, 10],\n",
       " [1, 5, 15, 35, 35],\n",
       " [1, 6, 21, 56, 126, 126],\n",
       " [1, 7, 28, 84, 210, 462, 462],\n",
       " [1, 8, 36, 120, 330, 792, 1716, 1716],\n",
       " [1, 9, 45, 165, 495, 1287, 3003, 6435, 6435],\n",
       " [1, 10, 55, 220, 715, 2002, 5005, 11440, 24310, 24310],\n",
       " [1, 11, 66, 286, 1001, 3003, 8008, 19448, 43758, 92378, 92378],\n",
       " [1, 12, 78, 364, 1365, 4368, 12376, 31824, 75582, 167960],\n",
       " [1, 13, 91, 455, 1820, 6188, 18564, 50388, 125970],\n",
       " [1, 14, 105, 560, 2380, 8568, 27132, 77520],\n",
       " [1, 15, 120, 680, 3060, 11628, 38760],\n",
       " [1, 16, 136, 816, 3876, 15504],\n",
       " [1, 17, 153, 969, 4845],\n",
       " [1, 18, 171, 1140],\n",
       " [1, 19, 190],\n",
       " [1, 20],\n",
       " [1]]"
      ]
     },
     "execution_count": 34,
     "metadata": {},
     "output_type": "execute_result"
    }
   ],
   "source": [
    "eggsSeriesLengths"
   ]
  },
  {
   "cell_type": "code",
   "execution_count": 35,
   "metadata": {},
   "outputs": [],
   "source": [
    "import math\n",
    "%matplotlib widget\n",
    "def numOfEggsDependingOnNumOfThrows (numOfFloors, m):\n",
    "    eggs = []\n",
    "    IDEAL_THROWS_N = (int)(math.log(2*numOfFloors,2))\n",
    "    throws = range(numOfFloors,IDEAL_THROWS_N-1,-1)\n",
    "    for throwNum in throws:\n",
    "        for egg in range(1,throwNum+1):\n",
    "            t = minThrows[egg][numOfFloors]\n",
    "            if t <= throwNum:\n",
    "                eggs.append(egg)\n",
    "                break\n",
    "    plt.plot(throws, eggs, m)"
   ]
  },
  {
   "cell_type": "code",
   "execution_count": 36,
   "metadata": {},
   "outputs": [
    {
     "data": {
      "application/vnd.jupyter.widget-view+json": {
       "model_id": "5f603485d4974b4298eecba69424e70d",
       "version_major": 2,
       "version_minor": 0
      },
      "text/plain": [
       "Canvas(toolbar=Toolbar(toolitems=[('Home', 'Reset original view', 'home', 'home'), ('Back', 'Back to previous …"
      ]
     },
     "metadata": {},
     "output_type": "display_data"
    }
   ],
   "source": [
    "numOfEggsDependingOnNumOfThrows(2**20-1, 'b1')\n",
    "#numOfEggsDependingOnNumOfThrows(1023, 'r2')\n",
    "#numOfEggsDependingOnNumOfThrows(1022,'g3')\n",
    "#numOfEggsDependingOnNumOfThrows(1021, 'y4')"
   ]
  },
  {
   "cell_type": "code",
   "execution_count": 37,
   "metadata": {},
   "outputs": [],
   "source": [
    "l = []\n",
    "for i in range(10000):\n",
    "    l.append(minThrows[2][i])"
   ]
  },
  {
   "cell_type": "code",
   "execution_count": 41,
   "metadata": {},
   "outputs": [
    {
     "data": {
      "application/vnd.jupyter.widget-view+json": {
       "model_id": "a215157bdd1b43b48885dd0523b5a285",
       "version_major": 2,
       "version_minor": 0
      },
      "text/plain": [
       "Canvas(toolbar=Toolbar(toolitems=[('Home', 'Reset original view', 'home', 'home'), ('Back', 'Back to previous …"
      ]
     },
     "metadata": {},
     "output_type": "display_data"
    },
    {
     "data": {
      "text/plain": [
       "[<matplotlib.lines.Line2D at 0x10410640>]"
      ]
     },
     "execution_count": 41,
     "metadata": {},
     "output_type": "execute_result"
    }
   ],
   "source": [
    "%matplotlib widget\n",
    "plt.plot(list(range(10000)), l)"
   ]
  },
  {
   "cell_type": "code",
   "execution_count": 39,
   "metadata": {},
   "outputs": [],
   "source": [
    "_ , debug = minThrow2(maxEggsNum, 4000)"
   ]
  },
  {
   "cell_type": "code",
   "execution_count": 40,
   "metadata": {},
   "outputs": [
    {
     "data": {
      "application/vnd.jupyter.widget-view+json": {
       "model_id": "13b1b8fe2b444cfa93270a26d3a58c2a",
       "version_major": 2,
       "version_minor": 0
      },
      "text/plain": [
       "Canvas(toolbar=Toolbar(toolitems=[('Home', 'Reset original view', 'home', 'home'), ('Back', 'Back to previous …"
      ]
     },
     "metadata": {},
     "output_type": "display_data"
    },
    {
     "ename": "ValueError",
     "evalue": "x and y must have same first dimension, but have shapes (851,) and (87,)",
     "output_type": "error",
     "traceback": [
      "\u001b[1;31m---------------------------------------------------------------------------\u001b[0m",
      "\u001b[1;31mValueError\u001b[0m                                Traceback (most recent call last)",
      "\u001b[1;32m<ipython-input-40-73b07c0483a0>\u001b[0m in \u001b[0;36m<module>\u001b[1;34m\u001b[0m\n\u001b[0;32m      1\u001b[0m \u001b[0mget_ipython\u001b[0m\u001b[1;33m(\u001b[0m\u001b[1;33m)\u001b[0m\u001b[1;33m.\u001b[0m\u001b[0mrun_line_magic\u001b[0m\u001b[1;33m(\u001b[0m\u001b[1;34m'matplotlib'\u001b[0m\u001b[1;33m,\u001b[0m \u001b[1;34m'widget'\u001b[0m\u001b[1;33m)\u001b[0m\u001b[1;33m\u001b[0m\u001b[1;33m\u001b[0m\u001b[0m\n\u001b[1;32m----> 2\u001b[1;33m \u001b[0mplt\u001b[0m\u001b[1;33m.\u001b[0m\u001b[0mplot\u001b[0m\u001b[1;33m(\u001b[0m\u001b[0mlist\u001b[0m\u001b[1;33m(\u001b[0m\u001b[0mrange\u001b[0m\u001b[1;33m(\u001b[0m\u001b[1;36m851\u001b[0m\u001b[1;33m)\u001b[0m\u001b[1;33m)\u001b[0m\u001b[1;33m,\u001b[0m\u001b[0mdebug\u001b[0m\u001b[1;33m)\u001b[0m\u001b[1;33m\u001b[0m\u001b[1;33m\u001b[0m\u001b[0m\n\u001b[0m",
      "\u001b[1;32m~\\AppData\\Roaming\\Python\\Python38\\site-packages\\matplotlib\\pyplot.py\u001b[0m in \u001b[0;36mplot\u001b[1;34m(scalex, scaley, data, *args, **kwargs)\u001b[0m\n\u001b[0;32m   2759\u001b[0m \u001b[1;33m@\u001b[0m\u001b[0mdocstring\u001b[0m\u001b[1;33m.\u001b[0m\u001b[0mcopy\u001b[0m\u001b[1;33m(\u001b[0m\u001b[0mAxes\u001b[0m\u001b[1;33m.\u001b[0m\u001b[0mplot\u001b[0m\u001b[1;33m)\u001b[0m\u001b[1;33m\u001b[0m\u001b[1;33m\u001b[0m\u001b[0m\n\u001b[0;32m   2760\u001b[0m \u001b[1;32mdef\u001b[0m \u001b[0mplot\u001b[0m\u001b[1;33m(\u001b[0m\u001b[1;33m*\u001b[0m\u001b[0margs\u001b[0m\u001b[1;33m,\u001b[0m \u001b[0mscalex\u001b[0m\u001b[1;33m=\u001b[0m\u001b[1;32mTrue\u001b[0m\u001b[1;33m,\u001b[0m \u001b[0mscaley\u001b[0m\u001b[1;33m=\u001b[0m\u001b[1;32mTrue\u001b[0m\u001b[1;33m,\u001b[0m \u001b[0mdata\u001b[0m\u001b[1;33m=\u001b[0m\u001b[1;32mNone\u001b[0m\u001b[1;33m,\u001b[0m \u001b[1;33m**\u001b[0m\u001b[0mkwargs\u001b[0m\u001b[1;33m)\u001b[0m\u001b[1;33m:\u001b[0m\u001b[1;33m\u001b[0m\u001b[1;33m\u001b[0m\u001b[0m\n\u001b[1;32m-> 2761\u001b[1;33m     return gca().plot(\n\u001b[0m\u001b[0;32m   2762\u001b[0m         *args, scalex=scalex, scaley=scaley, **({\"data\": data} if data\n\u001b[0;32m   2763\u001b[0m         is not None else {}), **kwargs)\n",
      "\u001b[1;32m~\\AppData\\Roaming\\Python\\Python38\\site-packages\\matplotlib\\axes\\_axes.py\u001b[0m in \u001b[0;36mplot\u001b[1;34m(self, scalex, scaley, data, *args, **kwargs)\u001b[0m\n\u001b[0;32m   1644\u001b[0m         \"\"\"\n\u001b[0;32m   1645\u001b[0m         \u001b[0mkwargs\u001b[0m \u001b[1;33m=\u001b[0m \u001b[0mcbook\u001b[0m\u001b[1;33m.\u001b[0m\u001b[0mnormalize_kwargs\u001b[0m\u001b[1;33m(\u001b[0m\u001b[0mkwargs\u001b[0m\u001b[1;33m,\u001b[0m \u001b[0mmlines\u001b[0m\u001b[1;33m.\u001b[0m\u001b[0mLine2D\u001b[0m\u001b[1;33m)\u001b[0m\u001b[1;33m\u001b[0m\u001b[1;33m\u001b[0m\u001b[0m\n\u001b[1;32m-> 1646\u001b[1;33m         \u001b[0mlines\u001b[0m \u001b[1;33m=\u001b[0m \u001b[1;33m[\u001b[0m\u001b[1;33m*\u001b[0m\u001b[0mself\u001b[0m\u001b[1;33m.\u001b[0m\u001b[0m_get_lines\u001b[0m\u001b[1;33m(\u001b[0m\u001b[1;33m*\u001b[0m\u001b[0margs\u001b[0m\u001b[1;33m,\u001b[0m \u001b[0mdata\u001b[0m\u001b[1;33m=\u001b[0m\u001b[0mdata\u001b[0m\u001b[1;33m,\u001b[0m \u001b[1;33m**\u001b[0m\u001b[0mkwargs\u001b[0m\u001b[1;33m)\u001b[0m\u001b[1;33m]\u001b[0m\u001b[1;33m\u001b[0m\u001b[1;33m\u001b[0m\u001b[0m\n\u001b[0m\u001b[0;32m   1647\u001b[0m         \u001b[1;32mfor\u001b[0m \u001b[0mline\u001b[0m \u001b[1;32min\u001b[0m \u001b[0mlines\u001b[0m\u001b[1;33m:\u001b[0m\u001b[1;33m\u001b[0m\u001b[1;33m\u001b[0m\u001b[0m\n\u001b[0;32m   1648\u001b[0m             \u001b[0mself\u001b[0m\u001b[1;33m.\u001b[0m\u001b[0madd_line\u001b[0m\u001b[1;33m(\u001b[0m\u001b[0mline\u001b[0m\u001b[1;33m)\u001b[0m\u001b[1;33m\u001b[0m\u001b[1;33m\u001b[0m\u001b[0m\n",
      "\u001b[1;32m~\\AppData\\Roaming\\Python\\Python38\\site-packages\\matplotlib\\axes\\_base.py\u001b[0m in \u001b[0;36m__call__\u001b[1;34m(self, *args, **kwargs)\u001b[0m\n\u001b[0;32m    214\u001b[0m                 \u001b[0mthis\u001b[0m \u001b[1;33m+=\u001b[0m \u001b[0margs\u001b[0m\u001b[1;33m[\u001b[0m\u001b[1;36m0\u001b[0m\u001b[1;33m]\u001b[0m\u001b[1;33m,\u001b[0m\u001b[1;33m\u001b[0m\u001b[1;33m\u001b[0m\u001b[0m\n\u001b[0;32m    215\u001b[0m                 \u001b[0margs\u001b[0m \u001b[1;33m=\u001b[0m \u001b[0margs\u001b[0m\u001b[1;33m[\u001b[0m\u001b[1;36m1\u001b[0m\u001b[1;33m:\u001b[0m\u001b[1;33m]\u001b[0m\u001b[1;33m\u001b[0m\u001b[1;33m\u001b[0m\u001b[0m\n\u001b[1;32m--> 216\u001b[1;33m             \u001b[1;32myield\u001b[0m \u001b[1;32mfrom\u001b[0m \u001b[0mself\u001b[0m\u001b[1;33m.\u001b[0m\u001b[0m_plot_args\u001b[0m\u001b[1;33m(\u001b[0m\u001b[0mthis\u001b[0m\u001b[1;33m,\u001b[0m \u001b[0mkwargs\u001b[0m\u001b[1;33m)\u001b[0m\u001b[1;33m\u001b[0m\u001b[1;33m\u001b[0m\u001b[0m\n\u001b[0m\u001b[0;32m    217\u001b[0m \u001b[1;33m\u001b[0m\u001b[0m\n\u001b[0;32m    218\u001b[0m     \u001b[1;32mdef\u001b[0m \u001b[0mget_next_color\u001b[0m\u001b[1;33m(\u001b[0m\u001b[0mself\u001b[0m\u001b[1;33m)\u001b[0m\u001b[1;33m:\u001b[0m\u001b[1;33m\u001b[0m\u001b[1;33m\u001b[0m\u001b[0m\n",
      "\u001b[1;32m~\\AppData\\Roaming\\Python\\Python38\\site-packages\\matplotlib\\axes\\_base.py\u001b[0m in \u001b[0;36m_plot_args\u001b[1;34m(self, tup, kwargs)\u001b[0m\n\u001b[0;32m    340\u001b[0m \u001b[1;33m\u001b[0m\u001b[0m\n\u001b[0;32m    341\u001b[0m         \u001b[1;32mif\u001b[0m \u001b[0mx\u001b[0m\u001b[1;33m.\u001b[0m\u001b[0mshape\u001b[0m\u001b[1;33m[\u001b[0m\u001b[1;36m0\u001b[0m\u001b[1;33m]\u001b[0m \u001b[1;33m!=\u001b[0m \u001b[0my\u001b[0m\u001b[1;33m.\u001b[0m\u001b[0mshape\u001b[0m\u001b[1;33m[\u001b[0m\u001b[1;36m0\u001b[0m\u001b[1;33m]\u001b[0m\u001b[1;33m:\u001b[0m\u001b[1;33m\u001b[0m\u001b[1;33m\u001b[0m\u001b[0m\n\u001b[1;32m--> 342\u001b[1;33m             raise ValueError(f\"x and y must have same first dimension, but \"\n\u001b[0m\u001b[0;32m    343\u001b[0m                              f\"have shapes {x.shape} and {y.shape}\")\n\u001b[0;32m    344\u001b[0m         \u001b[1;32mif\u001b[0m \u001b[0mx\u001b[0m\u001b[1;33m.\u001b[0m\u001b[0mndim\u001b[0m \u001b[1;33m>\u001b[0m \u001b[1;36m2\u001b[0m \u001b[1;32mor\u001b[0m \u001b[0my\u001b[0m\u001b[1;33m.\u001b[0m\u001b[0mndim\u001b[0m \u001b[1;33m>\u001b[0m \u001b[1;36m2\u001b[0m\u001b[1;33m:\u001b[0m\u001b[1;33m\u001b[0m\u001b[1;33m\u001b[0m\u001b[0m\n",
      "\u001b[1;31mValueError\u001b[0m: x and y must have same first dimension, but have shapes (851,) and (87,)"
     ]
    }
   ],
   "source": [
    "%matplotlib widget\n",
    "plt.plot(list(range(851)),debug)"
   ]
  },
  {
   "cell_type": "code",
   "execution_count": null,
   "metadata": {},
   "outputs": [],
   "source": []
  }
 ],
 "metadata": {
  "kernelspec": {
   "display_name": "Python 3",
   "language": "python",
   "name": "python3"
  },
  "language_info": {
   "codemirror_mode": {
    "name": "ipython",
    "version": 3
   },
   "file_extension": ".py",
   "mimetype": "text/x-python",
   "name": "python",
   "nbconvert_exporter": "python",
   "pygments_lexer": "ipython3",
   "version": "3.8.2"
  }
 },
 "nbformat": 4,
 "nbformat_minor": 4
}
