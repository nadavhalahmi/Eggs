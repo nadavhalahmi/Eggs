{
 "cells": [
  {
   "cell_type": "code",
   "execution_count": 258,
   "metadata": {},
   "outputs": [],
   "source": [
    "import numpy as np\n",
    "%matplotlib widget\n",
    "import matplotlib.pyplot as plt\n",
    "from mpl_toolkits.mplot3d import Axes3D"
   ]
  },
  {
   "cell_type": "code",
   "execution_count": 470,
   "metadata": {},
   "outputs": [],
   "source": [
    "maxEggsNum = 20\n",
    "maxFloorsNum = 2**20-1"
   ]
  },
  {
   "cell_type": "code",
   "execution_count": 471,
   "metadata": {},
   "outputs": [],
   "source": [
    "def minThrow (eggsNum,floorsNum):\n",
    "    minThrows = [] \n",
    "    jumps = [] \n",
    "\n",
    "    for egg in range(eggsNum+1):\n",
    "        minThrows.append([])\n",
    "        jumps.append([])\n",
    "        for floor in range (floorsNum+1):\n",
    "            if (egg == 0) and (floor == 0):\n",
    "                minThrows[egg].append(0)\n",
    "            elif floor == 0:\n",
    "                minThrows[egg].append(0)\n",
    "            elif egg == 1:\n",
    "                minThrows[egg].append(floor)\n",
    "            elif egg ==0:\n",
    "                minThrows[egg].append(floorsNum+1)\n",
    "            else:\n",
    "                minimum = floorsNum+1 \n",
    "                minIndex=-1\n",
    "                for currentFloor in range(1, floor+1):\n",
    "                    sol = 1+max(minThrows[egg][floor-currentFloor], minThrows[egg-1][currentFloor-1])\n",
    "                    if sol <= minimum:\n",
    "                        minimum = sol\n",
    "                        minIndex = currentFloor\n",
    "                minThrows[egg].append(minimum)\n",
    "                jumps[egg].append(minIndex)\n",
    "    return minThrows\n"
   ]
  },
  {
   "cell_type": "code",
   "execution_count": 472,
   "metadata": {},
   "outputs": [],
   "source": [
    "def minThrow2 (eggsNum,floorsNum):\n",
    "    minThrows = [] \n",
    "\n",
    "    for egg in range(eggsNum+1):\n",
    "        minThrows.append([])\n",
    "        if egg == 0:\n",
    "            continue\n",
    "        currChoose = 0 #will be initizlied when need to be removed\n",
    "        chooseIndex = 0\n",
    "        jumps = [1]\n",
    "        sumJumps = 1\n",
    "        for floor in range (floorsNum+1):\n",
    "            if sumJumps >= floor:\n",
    "                minThrows[egg].append(len(jumps))\n",
    "            else: #should update jumps\n",
    "                if len(jumps) >= egg:\n",
    "                    currChoose = 1 if chooseIndex == 0 else currChoose*(((egg-1)+chooseIndex)/chooseIndex)\n",
    "                    chooseIndex += 1\n",
    "                    jumps.append(2*jumps[-1]-currChoose) \n",
    "                else:\n",
    "                    jumps.append(2*jumps[-1])\n",
    "                sumJumps += jumps[-1]\n",
    "                minThrows[egg].append(len(jumps))\n",
    "    return minThrows\n"
   ]
  },
  {
   "cell_type": "code",
   "execution_count": 465,
   "metadata": {},
   "outputs": [
    {
     "name": "stdout",
     "output_type": "stream",
     "text": [
      "917 ms ± 22.6 ms per loop (mean ± std. dev. of 7 runs, 1 loop each)\n"
     ]
    }
   ],
   "source": [
    "#%timeit minThrows = minThrow(maxEggsNum, maxFloorsNum)"
   ]
  },
  {
   "cell_type": "code",
   "execution_count": 473,
   "metadata": {},
   "outputs": [],
   "source": [
    "minThrows = minThrow2(maxEggsNum, maxFloorsNum)"
   ]
  },
  {
   "cell_type": "code",
   "execution_count": 461,
   "metadata": {},
   "outputs": [],
   "source": [
    "def checkEquals(m1, m2):\n",
    "    for i in range(1,len(m1)):\n",
    "        for j in range(1,len(m1[i])):\n",
    "            if m1[i][j] != m2[i][j]:\n",
    "                return False\n",
    "    return True"
   ]
  },
  {
   "cell_type": "code",
   "execution_count": 462,
   "metadata": {},
   "outputs": [
    {
     "data": {
      "text/plain": [
       "True"
      ]
     },
     "execution_count": 462,
     "metadata": {},
     "output_type": "execute_result"
    }
   ],
   "source": [
    "checkEquals(minThrows, minThrows2)"
   ]
  },
  {
   "cell_type": "code",
   "execution_count": 483,
   "metadata": {},
   "outputs": [],
   "source": [
    "%matplotlib widget\n",
    "def throwsDependingOnEggsNum (to, floorsNum, m):\n",
    "    eggs = range(1,to)\n",
    "    minimumThrows = []\n",
    "    for egg in eggs:\n",
    "        minimumThrows.append(minThrows[egg][floorsNum])\n",
    "    plt.plot(eggs, minimumThrows, m)"
   ]
  },
  {
   "cell_type": "code",
   "execution_count": 484,
   "metadata": {},
   "outputs": [],
   "source": [
    "%matplotlib widget\n",
    "def EggsNumDependingOnThrows (to, floorsNum, m):\n",
    "    eggs = range(1,to)\n",
    "    minimumThrows = []\n",
    "    for egg in eggs:\n",
    "        minimumThrows.append(minThrows[egg][floorsNum])\n",
    "    plt.plot(minimumThrows, eggs, m)"
   ]
  },
  {
   "cell_type": "code",
   "execution_count": 485,
   "metadata": {},
   "outputs": [
    {
     "data": {
      "application/vnd.jupyter.widget-view+json": {
       "model_id": "ca36e09ac2c643ef8be9d0c413ce806c",
       "version_major": 2,
       "version_minor": 0
      },
      "text/plain": [
       "Canvas(toolbar=Toolbar(toolitems=[('Home', 'Reset original view', 'home', 'home'), ('Back', 'Back to previous …"
      ]
     },
     "metadata": {},
     "output_type": "display_data"
    }
   ],
   "source": [
    "#EggsNumDependingOnThrows(11, 1024, 'b1')\n",
    "EggsNumDependingOnThrows(20, 2**20-1, 'r2')\n",
    "#EggsNumDependingOnThrows(11, 1022, 'g3')\n",
    "#EggsNumDependingOnThrows(11, 1021, 'y4')"
   ]
  },
  {
   "cell_type": "code",
   "execution_count": 486,
   "metadata": {},
   "outputs": [],
   "source": [
    "def throwsDependingOnFloorsNum (to, eggsNum):\n",
    "    floors = range(1,to)\n",
    "    minimumThrows = []\n",
    "    for floor in floors:\n",
    "        minimumThrows.append(minThrows[eggsNum][floor])\n",
    "    plt.plot(floors, minimumThrows)"
   ]
  },
  {
   "cell_type": "code",
   "execution_count": 487,
   "metadata": {},
   "outputs": [],
   "source": [
    "import matplotlib.pyplot as plt\n",
    "import numpy as np\n",
    "def threeDGraph (f, to):\n",
    "    fig = plt.figure()\n",
    "    ax = fig.add_subplot(111, projection='3d')\n",
    "\n",
    "\n",
    "    xs = []\n",
    "    for i in range(f,to+1):\n",
    "        for j in range(f,to+1):\n",
    "            xs.append(i)\n",
    "    ys = []\n",
    "    for i in range(f,to+1):\n",
    "        for j in range(f,to+1):\n",
    "            ys.append(j)\n",
    "    zs = []\n",
    "    for egg in range(f,to+1):\n",
    "        for floor in range(f,to+1):\n",
    "            zs.append(minThrows[egg][floor])\n",
    "    ax.scatter(xs, ys, zs)\n",
    "\n",
    "    ax.set_xlabel('EGGS')\n",
    "    ax.set_ylabel('FLOORS')\n",
    "    ax.set_zlabel('MINIMUM THROWS')\n",
    "\n",
    "    plt.show()"
   ]
  },
  {
   "cell_type": "code",
   "execution_count": 488,
   "metadata": {},
   "outputs": [
    {
     "data": {
      "application/vnd.jupyter.widget-view+json": {
       "model_id": "d44f9631007745ae86d8e735bcc280fd",
       "version_major": 2,
       "version_minor": 0
      },
      "text/plain": [
       "Canvas(toolbar=Toolbar(toolitems=[('Home', 'Reset original view', 'home', 'home'), ('Back', 'Back to previous …"
      ]
     },
     "metadata": {},
     "output_type": "display_data"
    }
   ],
   "source": [
    "threeDGraph (1,10)"
   ]
  },
  {
   "cell_type": "code",
   "execution_count": 491,
   "metadata": {},
   "outputs": [],
   "source": [
    "import math\n",
    "def idealEggsNum(floorsNum):\n",
    "    IDEAL_THROWS_NUM = (int)(math.log(2*floorsNum,2))\n",
    "    for i in range(1, floorsNum+1):\n",
    "        throwNum = minThrows[i][floorsNum]\n",
    "        if throwNum == IDEAL_THROWS_NUM:\n",
    "            return (i)"
   ]
  },
  {
   "cell_type": "code",
   "execution_count": 492,
   "metadata": {},
   "outputs": [
    {
     "name": "stdout",
     "output_type": "stream",
     "text": [
      "4\n"
     ]
    }
   ],
   "source": [
    "print (idealEggsNum(15))"
   ]
  },
  {
   "cell_type": "code",
   "execution_count": 496,
   "metadata": {},
   "outputs": [],
   "source": [
    "%matplotlib widget\n",
    "def idealEggsNumDependingOnFloorsNum (to):\n",
    "    floors = range(1,to+1)\n",
    "    idealEggsN =[]\n",
    "    for i in floors:\n",
    "        idealEggsN.append(idealEggsNum(i))\n",
    "    plt.plot(floors, idealEggsN, 'b.')\n",
    "    return idealEggsN"
   ]
  },
  {
   "cell_type": "code",
   "execution_count": 497,
   "metadata": {},
   "outputs": [
    {
     "data": {
      "application/vnd.jupyter.widget-view+json": {
       "model_id": "311d496376fb46a496792fca9a54af8e",
       "version_major": 2,
       "version_minor": 0
      },
      "text/plain": [
       "Canvas(toolbar=Toolbar(toolitems=[('Home', 'Reset original view', 'home', 'home'), ('Back', 'Back to previous …"
      ]
     },
     "metadata": {},
     "output_type": "display_data"
    }
   ],
   "source": [
    "idealEggsN = idealEggsNumDependingOnFloorsNum(2**20-1)"
   ]
  },
  {
   "cell_type": "code",
   "execution_count": null,
   "metadata": {},
   "outputs": [],
   "source": [
    "eggsSeries = []\n",
    "for i in range(1,max(idealEggsN)+1):\n",
    "    eggsSeries.append([])\n",
    "    for j in range(len(idealEggsN)):\n",
    "        if i==idealEggsN[j]:\n",
    "            eggsSeries[-1].append(j)"
   ]
  },
  {
   "cell_type": "code",
   "execution_count": null,
   "metadata": {},
   "outputs": [],
   "source": [
    "eggsSeriesLengths = []\n",
    "for j in range(len(eggsSeries)):\n",
    "    eggsSeriesLengths.append([])\n",
    "    counter = 1\n",
    "    for i in range(len(eggsSeries[j])-1):\n",
    "        if(eggsSeries[j][i+1]-eggsSeries[j][i] == 1):\n",
    "            counter+=1\n",
    "        else:\n",
    "            eggsSeriesLengths[-1].append(counter)\n",
    "            counter = 1\n",
    "    eggsSeriesLengths[-1].append(counter)"
   ]
  },
  {
   "cell_type": "code",
   "execution_count": null,
   "metadata": {},
   "outputs": [],
   "source": [
    "eggsSeriesLengths"
   ]
  },
  {
   "cell_type": "code",
   "execution_count": 273,
   "metadata": {},
   "outputs": [],
   "source": [
    "import math\n",
    "%matplotlib widget\n",
    "def numOfEggsDependingOnNumOfThrows (numOfFloors, m):\n",
    "    eggs = []\n",
    "    IDEAL_THROWS_N = (int)(math.log(2*numOfFloors,2))\n",
    "    throws = range(numOfFloors,IDEAL_THROWS_N-1,-1)\n",
    "    for throwNum in throws:\n",
    "        for egg in range(1,throwNum+1):\n",
    "            t = minThrows[egg][numOfFloors]\n",
    "            if t <= throwNum:\n",
    "                eggs.append(egg)\n",
    "                break\n",
    "    plt.plot(throws, eggs, m)"
   ]
  },
  {
   "cell_type": "code",
   "execution_count": 274,
   "metadata": {
    "scrolled": false
   },
   "outputs": [
    {
     "data": {
      "application/vnd.jupyter.widget-view+json": {
       "model_id": "5a768d5006f14bcdab4b3fe88d029c23",
       "version_major": 2,
       "version_minor": 0
      },
      "text/plain": [
       "Canvas(toolbar=Toolbar(toolitems=[('Home', 'Reset original view', 'home', 'home'), ('Back', 'Back to previous …"
      ]
     },
     "metadata": {},
     "output_type": "display_data"
    }
   ],
   "source": [
    "numOfEggsDependingOnNumOfThrows(1024, 'b1')\n",
    "#numOfEggsDependingOnNumOfThrows(1023, 'r2')\n",
    "#numOfEggsDependingOnNumOfThrows(1022,'g3')\n",
    "#numOfEggsDependingOnNumOfThrows(1021, 'y4')"
   ]
  },
  {
   "cell_type": "code",
   "execution_count": null,
   "metadata": {},
   "outputs": [],
   "source": []
  }
 ],
 "metadata": {
  "kernelspec": {
   "display_name": "Python 3",
   "language": "python",
   "name": "python3"
  },
  "language_info": {
   "codemirror_mode": {
    "name": "ipython",
    "version": 3
   },
   "file_extension": ".py",
   "mimetype": "text/x-python",
   "name": "python",
   "nbconvert_exporter": "python",
   "pygments_lexer": "ipython3",
   "version": "3.7.4"
  }
 },
 "nbformat": 4,
 "nbformat_minor": 4
}
