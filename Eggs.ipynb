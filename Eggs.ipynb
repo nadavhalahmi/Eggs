{
 "cells": [
  {
   "cell_type": "code",
   "execution_count": 1,
   "metadata": {},
   "outputs": [],
   "source": [
    "import numpy as np"
   ]
  },
  {
   "cell_type": "code",
   "execution_count": 2,
   "metadata": {},
   "outputs": [],
   "source": [
    "m = 512\n",
    "n = 512\n",
    "\n"
   ]
  },
  {
   "cell_type": "code",
   "execution_count": 3,
   "metadata": {},
   "outputs": [
    {
     "name": "stdout",
     "output_type": "stream",
     "text": [
      "262144\n"
     ]
    }
   ],
   "source": [
    "print(n*m)"
   ]
  },
  {
   "cell_type": "code",
   "execution_count": 27,
   "metadata": {},
   "outputs": [],
   "source": [
    "eggsNum = 3\n",
    "floorsNum = 100"
   ]
  },
  {
   "cell_type": "code",
   "execution_count": 28,
   "metadata": {},
   "outputs": [],
   "source": [
    "minThrows = [] \n",
    "jumps = [] \n",
    "\n",
    "for egg in range(eggsNum+1):\n",
    "    minThrows.append([])\n",
    "    jumps.append([])\n",
    "    for floor in range (floorsNum+1):\n",
    "        if (egg == 0) and (floor == 0):\n",
    "            minThrows[egg].append(0)\n",
    "        elif floor == 0:\n",
    "            minThrows[egg].append(0)\n",
    "        elif egg == 1:\n",
    "            minThrows[egg].append(floor)\n",
    "        elif egg ==0:\n",
    "            minThrows[egg].append(floorsNum+1)\n",
    "        else:\n",
    "            minimum = floorsNum+1 \n",
    "            minIndex=-1\n",
    "            for currentFloor in range(1, floor+1):\n",
    "                sol = 1+max(minThrows[egg][floor-currentFloor], minThrows[egg-1][currentFloor-1])\n",
    "                if sol <= minimum:\n",
    "                    minimum = sol\n",
    "                    minIndex = currentFloor\n",
    "            minThrows[egg].append(minimum)\n",
    "            jumps[egg].append(minIndex)\n"
   ]
  },
  {
   "cell_type": "code",
   "execution_count": 29,
   "metadata": {},
   "outputs": [
    {
     "name": "stdout",
     "output_type": "stream",
     "text": [
      "[[0, 101, 101, 101, 101, 101, 101, 101, 101, 101, 101, 101, 101, 101, 101, 101, 101, 101, 101, 101, 101, 101, 101, 101, 101, 101, 101, 101, 101, 101, 101, 101, 101, 101, 101, 101, 101, 101, 101, 101, 101, 101, 101, 101, 101, 101, 101, 101, 101, 101, 101, 101, 101, 101, 101, 101, 101, 101, 101, 101, 101, 101, 101, 101, 101, 101, 101, 101, 101, 101, 101, 101, 101, 101, 101, 101, 101, 101, 101, 101, 101, 101, 101, 101, 101, 101, 101, 101, 101, 101, 101, 101, 101, 101, 101, 101, 101, 101, 101, 101, 101], [0, 1, 2, 3, 4, 5, 6, 7, 8, 9, 10, 11, 12, 13, 14, 15, 16, 17, 18, 19, 20, 21, 22, 23, 24, 25, 26, 27, 28, 29, 30, 31, 32, 33, 34, 35, 36, 37, 38, 39, 40, 41, 42, 43, 44, 45, 46, 47, 48, 49, 50, 51, 52, 53, 54, 55, 56, 57, 58, 59, 60, 61, 62, 63, 64, 65, 66, 67, 68, 69, 70, 71, 72, 73, 74, 75, 76, 77, 78, 79, 80, 81, 82, 83, 84, 85, 86, 87, 88, 89, 90, 91, 92, 93, 94, 95, 96, 97, 98, 99, 100], [0, 1, 2, 2, 3, 3, 3, 4, 4, 4, 4, 5, 5, 5, 5, 5, 6, 6, 6, 6, 6, 6, 7, 7, 7, 7, 7, 7, 7, 8, 8, 8, 8, 8, 8, 8, 8, 9, 9, 9, 9, 9, 9, 9, 9, 9, 10, 10, 10, 10, 10, 10, 10, 10, 10, 10, 11, 11, 11, 11, 11, 11, 11, 11, 11, 11, 11, 12, 12, 12, 12, 12, 12, 12, 12, 12, 12, 12, 12, 13, 13, 13, 13, 13, 13, 13, 13, 13, 13, 13, 13, 13, 14, 14, 14, 14, 14, 14, 14, 14, 14], [0, 1, 2, 2, 3, 3, 3, 3, 4, 4, 4, 4, 4, 4, 4, 5, 5, 5, 5, 5, 5, 5, 5, 5, 5, 5, 6, 6, 6, 6, 6, 6, 6, 6, 6, 6, 6, 6, 6, 6, 6, 6, 7, 7, 7, 7, 7, 7, 7, 7, 7, 7, 7, 7, 7, 7, 7, 7, 7, 7, 7, 7, 7, 7, 8, 8, 8, 8, 8, 8, 8, 8, 8, 8, 8, 8, 8, 8, 8, 8, 8, 8, 8, 8, 8, 8, 8, 8, 8, 8, 8, 8, 8, 9, 9, 9, 9, 9, 9, 9, 9]]\n"
     ]
    }
   ],
   "source": [
    "print(minThrows)"
   ]
  },
  {
   "cell_type": "code",
   "execution_count": null,
   "metadata": {},
   "outputs": [],
   "source": [
    "int[][] minThrows = new int[eggsNum+1][floorsNum+1]; //wont use zeros\n",
    "int[][] jumps = new int[eggsNum+1][floorsNum+1];\n",
    "for(int i=0;i<minThrows.length;i++) //rows\n",
    "{\n",
    "\tfor(int j=0;j<minThrows[0].length;j++)//cols\n",
    "\t{\n",
    "\t\tif(i==1) minThrows[i][j]=j;\n",
    "\t\telse if(i==0 && j==0) minThrows[i][j]=0;\n",
    "\t\telse if(j==0) minThrows[i][j]=0;\n",
    "\t\telse if(i==0) minThrows[i][j]=floorsNum+1;\n",
    "\t\telse\n",
    "\t\t{\n",
    "\t\t\tint min = floorsNum+1; //infinity\n",
    "\t\t\tint minIndex=-1;\n",
    "\t\t\tfor(int f=1;f<=j;f++)\n",
    "\t\t\t{\n",
    "\t\t\t\tint sol = 1+Math.max(minThrows[i][j-f], minTrows[i-1][f-1]);\n",
    "\t\t\t\t//1+max(didnt break, broke)\n",
    "\t\t\t\tif(sol <= min)\n",
    "\t\t\t\t{\n",
    "\t\t\t\t\tmin = sol;\n",
    "\t\t\t\t\tminIndex = f;\n",
    "\t\t\t\t}\n",
    "\t\t\t}\n",
    "\t\t\tminThrows[i][j]=min;\n",
    "\t\t\tjumps[i][j] = minIndex;\n",
    "\t\t\t\n",
    "\t\t}\n",
    "\t}\n",
    "}\n",
    "System.out.println(\"solution is: \"+minThrows[n][m]);\n",
    "printArray(minThrows);"
   ]
  }
 ],
 "metadata": {
  "kernelspec": {
   "display_name": "Python 3",
   "language": "python",
   "name": "python3"
  },
  "language_info": {
   "codemirror_mode": {
    "name": "ipython",
    "version": 3
   },
   "file_extension": ".py",
   "mimetype": "text/x-python",
   "name": "python",
   "nbconvert_exporter": "python",
   "pygments_lexer": "ipython3",
   "version": "3.7.4"
  }
 },
 "nbformat": 4,
 "nbformat_minor": 4
}
