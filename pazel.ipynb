{
 "cells": [
  {
   "cell_type": "code",
   "execution_count": 1,
   "metadata": {},
   "outputs": [],
   "source": [
    "def legal (list):\n",
    "    place = []\n",
    "    pointerR = -1\n",
    "    pointerS = -1\n",
    "    countR = 0\n",
    "    countS = 0\n",
    "    for i in range(len(list)):\n",
    "        if list[i] == '(':\n",
    "            countR += 1\n",
    "            place.append(countS)\n",
    "            pointerS= len(place)-2\n",
    "        if list[i] == '[':\n",
    "            countS += 1\n",
    "            place.append(countR)\n",
    "            pointerR = len(place)-2\n",
    "        if list[i] == ')':\n",
    "            countR = countR -1\n",
    "            if (countR < 0):\n",
    "                return False\n",
    "            if (countS < place[pointerR]):\n",
    "                return False\n",
    "            pointerR = pointerS-1\n",
    "        if list[i] == ']':\n",
    "            countS = countS-1\n",
    "            if (countS < 0): \n",
    "                return False\n",
    "            if (countR < place[pointerS]):\n",
    "                return False \n",
    "            pointerS = pointerR-1\n",
    "    if countR>0 or countS>0 : \n",
    "        return False\n",
    "    return True"
   ]
  },
  {
   "cell_type": "code",
   "execution_count": 2,
   "metadata": {},
   "outputs": [
    {
     "name": "stdout",
     "output_type": "stream",
     "text": [
      "False\n"
     ]
    }
   ],
   "source": [
    "list = '[([)]'\n",
    "print(legal(list))"
   ]
  },
  {
   "cell_type": "code",
   "execution_count": 3,
   "metadata": {},
   "outputs": [],
   "source": [
    "def legal2 (list):\n",
    "    placeR = []\n",
    "    placeS = []\n",
    "    placeV = []\n",
    "    countV = 0\n",
    "    countR = 0\n",
    "    PCR = [0]\n",
    "    PCS = [0]\n",
    "    countS = 0\n",
    "    for i in range(len(list)):\n",
    "        if list[i] == '(':\n",
    "            countR += 1\n",
    "            placeR.append([countS, countV])\n",
    "        if list[i] == '[':\n",
    "            countS += 1\n",
    "            placeS.append([countR, countV])\n",
    "        if list[i] == '|':\n",
    "            if (countV > 0 and (countR==0 and countS==0)) or (countV>0 and PCR[-1] == countR and PCS[-1] == countS) :\n",
    "                    PCS.pop()\n",
    "                    PCR.pop()\n",
    "                    countV = countV -1\n",
    "                    if (countR < placeV[-1].pop() or countS < placeV[-1].pop()):\n",
    "                        return False\n",
    "                    placeV.pop()\n",
    "            else:\n",
    "                placeV.append([countS, countR])\n",
    "                countV = countV +1\n",
    "                PCR.append(countR)\n",
    "                PCS.append(countS)\n",
    "        if list[i] == ')':\n",
    "            countR = countR -1\n",
    "            if (countR < 0):\n",
    "                return False\n",
    "            if (countV < placeR[-1].pop() or countS < placeR[-1].pop()):\n",
    "                return False\n",
    "            placeR.pop()\n",
    "        if list[i] == ']':\n",
    "            countS = countS-1\n",
    "            if (countS < 0): \n",
    "                return False\n",
    "            if (countV < placeS[-1].pop() or countR < placeS[-1].pop()):\n",
    "                return False \n",
    "            placeS.pop()\n",
    "    if countR>0 or countS>0 or countV>0: \n",
    "        return False\n",
    "    return True"
   ]
  },
  {
   "cell_type": "code",
   "execution_count": 4,
   "metadata": {},
   "outputs": [
    {
     "name": "stdout",
     "output_type": "stream",
     "text": [
      "True\n"
     ]
    }
   ],
   "source": [
    "list = '|(|[()]|)|'\n",
    "print(legal2(list))"
   ]
  },
  {
   "cell_type": "code",
   "execution_count": 5,
   "metadata": {},
   "outputs": [],
   "source": [
    "def legalOriginal (list):\n",
    "    placeR = []\n",
    "    placeS = []\n",
    "    countR = 0\n",
    "    countS = 0\n",
    "    for i in range(len(list)):\n",
    "        if list[i] == '(':\n",
    "            countR += 1\n",
    "            placeR.append(countS)\n",
    "        if list[i] == '[':\n",
    "            countS += 1\n",
    "            placeS.append(countR)\n",
    "        if list[i] == ')':\n",
    "            countR = countR -1\n",
    "            if (countR < 0):\n",
    "                return False\n",
    "            if (countS < placeR.pop()):\n",
    "                return False\n",
    "        if list[i] == ']':\n",
    "            countS = countS-1\n",
    "            if (countS < 0): \n",
    "                return False\n",
    "            if (countR < placeS.pop()):\n",
    "                return False \n",
    "    if countR>0 or countS>0 : \n",
    "        return False\n",
    "    return True"
   ]
  },
  {
   "cell_type": "code",
   "execution_count": 6,
   "metadata": {},
   "outputs": [
    {
     "data": {
      "text/plain": [
       "False"
      ]
     },
     "execution_count": 6,
     "metadata": {},
     "output_type": "execute_result"
    }
   ],
   "source": [
    "list = '([()][(]))()'\n",
    "legalOriginal(list)"
   ]
  },
  {
   "cell_type": "code",
   "execution_count": 7,
   "metadata": {},
   "outputs": [],
   "source": [
    "def secondTry (list):\n",
    "    cartridge = []\n",
    "    for i in range (len(list)):\n",
    "        if list[i] == '(':\n",
    "            cartridge.append('(')\n",
    "        if list[i] == '[':\n",
    "            cartridge.append('[')\n",
    "        if list[i] == ')':\n",
    "            if cartridge.pop() == '(':\n",
    "                continue\n",
    "            else:\n",
    "                return False\n",
    "        if list[i] == ']':\n",
    "            if cartridge.pop() == '[':\n",
    "                continue\n",
    "            else:\n",
    "                return False\n",
    "        if list[i]== '|':\n",
    "            if len(cartridge) == 0 or cartridge[-1] !='|':\n",
    "                cartridge.append('|')\n",
    "            else:\n",
    "                cartridge.pop()\n",
    "    if len(cartridge) == 0:\n",
    "        return True\n",
    "    else:\n",
    "        return False"
   ]
  },
  {
   "cell_type": "code",
   "execution_count": 8,
   "metadata": {},
   "outputs": [
    {
     "data": {
      "text/plain": [
       "False"
      ]
     },
     "execution_count": 8,
     "metadata": {},
     "output_type": "execute_result"
    }
   ],
   "source": [
    "list = '|([(||)][|]|)|'\n",
    "secondTry (list)"
   ]
  },
  {
   "cell_type": "code",
   "execution_count": 9,
   "metadata": {},
   "outputs": [],
   "source": [
    "def pointers (list):\n",
    "    stackPointer =-1\n",
    "    for i in range (len(list)):\n",
    "        if list[i] == '(':\n",
    "            stackPointer = i\n",
    "        if list[i] == '[':\n",
    "            stackPointer = i \n",
    "        if list[i] == ')':\n",
    "            if list[stackPointer] == '(':\n",
    "                list[stackPointer] = '0'\n",
    "                list[i] = '0'\n",
    "                while stackPointer != 0 and list[stackPointer] == '0':\n",
    "                    stackPointer = stackPointer-1\n",
    "            else:\n",
    "                return False\n",
    "        if list[i] == ']':\n",
    "            if list[stackPointer] == '[':\n",
    "                list[stackPointer] = '0'\n",
    "                list[i] = '0'\n",
    "                while stackPointer != 0 and list[stackPointer] == '0':\n",
    "                    stackPointer = stackPointer-1\n",
    "            else:\n",
    "                return False\n",
    "    for j in range (len(list)):\n",
    "        if list[j] != '0':\n",
    "            return False\n",
    "    return True"
   ]
  },
  {
   "cell_type": "code",
   "execution_count": 10,
   "metadata": {},
   "outputs": [
    {
     "data": {
      "text/plain": [
       "False"
      ]
     },
     "execution_count": 10,
     "metadata": {},
     "output_type": "execute_result"
    }
   ],
   "source": [
    "list = ['[','(',')',']','[','(','[',')',']',']']\n",
    "pointers(list)"
   ]
  },
  {
   "cell_type": "code",
   "execution_count": 11,
   "metadata": {},
   "outputs": [],
   "source": [
    "def pointers2 (list):\n",
    "    stackPointer =-1\n",
    "    for i in range (len(list)):\n",
    "        if list[i] == '(':\n",
    "            stackPointer = i\n",
    "        if list[i] == '[':\n",
    "            stackPointer = i \n",
    "        if list[i] == ')':\n",
    "            if list[stackPointer] == '(':\n",
    "                del list[stackPointer]\n",
    "                del list[i]\n",
    "            else:\n",
    "                return False\n",
    "        if list[i] == ']':\n",
    "            if list[stackPointer] == '[':\n",
    "                del list[stackPointer]\n",
    "                del list[i]\n",
    "            else:\n",
    "                return False\n",
    "    for j in range (len(list)):\n",
    "        if list[j] != '0':\n",
    "            return False\n",
    "    return True"
   ]
  },
  {
   "cell_type": "code",
   "execution_count": 12,
   "metadata": {},
   "outputs": [
    {
     "data": {
      "text/plain": [
       "False"
      ]
     },
     "execution_count": 12,
     "metadata": {},
     "output_type": "execute_result"
    }
   ],
   "source": [
    "list = ['[','(',')',']','[','[','(',')',']',']']\n",
    "pointers2(list)"
   ]
  },
  {
   "cell_type": "code",
   "execution_count": null,
   "metadata": {},
   "outputs": [],
   "source": []
  }
 ],
 "metadata": {
  "kernelspec": {
   "display_name": "Python 3",
   "language": "python",
   "name": "python3"
  },
  "language_info": {
   "codemirror_mode": {
    "name": "ipython",
    "version": 3
   },
   "file_extension": ".py",
   "mimetype": "text/x-python",
   "name": "python",
   "nbconvert_exporter": "python",
   "pygments_lexer": "ipython3",
   "version": "3.8.2"
  }
 },
 "nbformat": 4,
 "nbformat_minor": 4
}
